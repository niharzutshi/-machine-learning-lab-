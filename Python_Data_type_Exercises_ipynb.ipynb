{
  "cells": [
    {
      "cell_type": "markdown",
      "metadata": {
        "id": "3pZW2OiYFOp7"
      },
      "source": [
        "## Python Data Type: List - Exercises"
      ]
    },
    {
      "cell_type": "markdown",
      "metadata": {
        "id": "rwhuSYgsFOqC"
      },
      "source": [
        "#### 1. Write a Python program to check a list is empty or not"
      ]
    },
    {
      "cell_type": "code",
      "execution_count": 1,
      "metadata": {
        "collapsed": true,
        "id": "dCj6z6dWFOqD",
        "colab": {
          "base_uri": "https://localhost:8080/"
        },
        "outputId": "28baa181-5ad1-4e3f-b0bb-dfec66e99a84"
      },
      "outputs": [
        {
          "output_type": "stream",
          "name": "stdout",
          "text": [
            "Empty List\n"
          ]
        }
      ],
      "source": [
        "def Enquiry(lis1):\n",
        "    if len(lis1) == 0:\n",
        "        return 0\n",
        "    else:\n",
        "        return 1\n",
        " \n",
        "# Driver Code\n",
        "lis1 = []\n",
        "if Enquiry(lis1):\n",
        "    print(\"The list is not empty\")\n",
        "else:\n",
        "    print(\"Empty List\")"
      ]
    },
    {
      "cell_type": "markdown",
      "metadata": {
        "id": "E7uKA--BFOqE"
      },
      "source": [
        "#### 2. Write a Python program to remove duplicates from a list."
      ]
    },
    {
      "cell_type": "code",
      "execution_count": 2,
      "metadata": {
        "collapsed": true,
        "id": "mNS5Dl5uFOqF",
        "colab": {
          "base_uri": "https://localhost:8080/"
        },
        "outputId": "67784960-c477-4355-caea-172348fff70e"
      },
      "outputs": [
        {
          "output_type": "stream",
          "name": "stdout",
          "text": [
            "[2, 4, 10, 20, 5]\n"
          ]
        }
      ],
      "source": [
        "# Python code to remove duplicate elements\n",
        "def Remove(duplicate):\n",
        "\tfinal_list = []\n",
        "\tfor num in duplicate:\n",
        "\t\tif num not in final_list:\n",
        "\t\t\tfinal_list.append(num)\n",
        "\treturn final_list\n",
        "\t\n",
        "# Driver Code\n",
        "duplicate = [2, 4, 10, 20, 5, 2, 20, 4]\n",
        "print(Remove(duplicate))\n"
      ]
    },
    {
      "cell_type": "markdown",
      "metadata": {
        "id": "tREUmGtRFOqG"
      },
      "source": [
        "#### 3. Write a Python function that takes two lists and returns True if they have at least one common member"
      ]
    },
    {
      "cell_type": "code",
      "execution_count": null,
      "metadata": {
        "collapsed": true,
        "id": "GGcrfQ6WFOqG",
        "colab": {
          "base_uri": "https://localhost:8080/"
        },
        "outputId": "b7c3dab5-dbac-4423-f6e1-652f64de2f78"
      },
      "outputs": [
        {
          "output_type": "stream",
          "name": "stdout",
          "text": [
            "True\n",
            "None\n"
          ]
        }
      ],
      "source": [
        "def common_data(list1, list2):\n",
        "     result = False\n",
        "     for x in list1:\n",
        "         for y in list2:\n",
        "             if x == y:\n",
        "                 result = True\n",
        "                 return result\n",
        "print(common_data([1,2,3,4,5], [5,6,7,8,9]))\n",
        "print(common_data([1,2,3,4,5], [6,7,8,9]))"
      ]
    },
    {
      "cell_type": "markdown",
      "metadata": {
        "id": "b9g7n-jdFOqH"
      },
      "source": [
        "#### 4. Write a Python program to get the difference between the two lists"
      ]
    },
    {
      "cell_type": "code",
      "execution_count": null,
      "metadata": {
        "collapsed": true,
        "id": "Oy8_mTp2FOqI",
        "colab": {
          "base_uri": "https://localhost:8080/"
        },
        "outputId": "65708f59-664d-4e85-dbdf-971dc5b179f2"
      },
      "outputs": [
        {
          "output_type": "stream",
          "name": "stdout",
          "text": [
            "[9, 3, 5, 8, 2, 4, 6]\n"
          ]
        }
      ],
      "source": [
        "list1 = [1, 3, 5, 7, 9]\n",
        "list2=[1, 2, 4, 6, 7, 8]\n",
        "diff_list1_list2 = list(set(list1) - set(list2))\n",
        "diff_list2_list1 = list(set(list2) - set(list1))\n",
        "total_diff = diff_list1_list2 + diff_list2_list1\n",
        "print(total_diff)"
      ]
    },
    {
      "cell_type": "markdown",
      "metadata": {
        "id": "OHnStheyFOqI"
      },
      "source": [
        "#### 5. Write a Python program to find the second smallest number in a list"
      ]
    },
    {
      "cell_type": "code",
      "execution_count": null,
      "metadata": {
        "collapsed": true,
        "id": "vL_dD-VnFOqJ",
        "colab": {
          "base_uri": "https://localhost:8080/"
        },
        "outputId": "cdcd7e16-04ce-4c35-c587-16ef4d818af3"
      },
      "outputs": [
        {
          "output_type": "stream",
          "name": "stdout",
          "text": [
            "Second Smallest number is: -2\n"
          ]
        }
      ],
      "source": [
        "# Python prog to illustrate the following in a list\n",
        "def find_len(list1):\n",
        "\tlength = len(list1)\n",
        "\tlist1.sort()\n",
        "\tprint(\"Second Smallest number is:\", list1[1])\n",
        "\n",
        "# Driver Code\n",
        "list1=[1,2,-8,-2,0]\n",
        "Largest = find_len(list1)\n"
      ]
    },
    {
      "cell_type": "markdown",
      "metadata": {
        "id": "Fm6_3OkLFOqJ"
      },
      "source": [
        "#### 6.  Write a Python program to find the second largest number in a list."
      ]
    },
    {
      "cell_type": "code",
      "execution_count": null,
      "metadata": {
        "collapsed": true,
        "id": "HZueP8CUFOqK",
        "colab": {
          "base_uri": "https://localhost:8080/"
        },
        "outputId": "8744a1a5-ba7f-4f04-b392-db81a2627362"
      },
      "outputs": [
        {
          "output_type": "stream",
          "name": "stdout",
          "text": [
            "Second largest number is: 45\n"
          ]
        }
      ],
      "source": [
        "\n",
        "list1 = [10, 20, 20, 4, 45, 45, 45, 99, 99]\n",
        "\n",
        "list2 = list(set(list1))\n",
        "\n",
        "list2.sort()\n",
        "\n",
        "print(\"Second largest number is:\", list2[-2])\n"
      ]
    },
    {
      "cell_type": "markdown",
      "metadata": {
        "id": "B6Y1puSzFOqK"
      },
      "source": [
        "#### 7. Write a Python program to get the frequency of the elements in a list"
      ]
    },
    {
      "cell_type": "code",
      "execution_count": null,
      "metadata": {
        "collapsed": true,
        "id": "guvu21i9FOqL",
        "colab": {
          "base_uri": "https://localhost:8080/"
        },
        "outputId": "6a821119-ca24-49c0-afd7-a627cb0284ac"
      },
      "outputs": [
        {
          "output_type": "stream",
          "name": "stdout",
          "text": [
            "{'A': 3, 'B': 3, 'C': 1, 'D': 2}\n"
          ]
        }
      ],
      "source": [
        "random_list = ['A', 'A', 'B', 'C', 'B', 'D', 'D', 'A', 'B']\n",
        "frequency = {}\n",
        "\n",
        "for item in random_list:\n",
        "   if item in frequency:\n",
        "      frequency[item] += 1\n",
        "   else:\n",
        "      frequency[item] = 1\n",
        "\n",
        "print(frequency)"
      ]
    },
    {
      "cell_type": "markdown",
      "metadata": {
        "id": "I-SPwmkgFOqL"
      },
      "source": [
        "#### 8. Write a Python program to convert a list of multiple integers into a single integer\n",
        "* Sample list: [11, 33, 50]\n",
        "* Expected Output: 113350"
      ]
    },
    {
      "cell_type": "code",
      "execution_count": null,
      "metadata": {
        "collapsed": true,
        "id": "0laX6CNgFOqM",
        "colab": {
          "base_uri": "https://localhost:8080/"
        },
        "outputId": "f76e71bc-3731-47a7-db82-fa8aef80a0ad"
      },
      "outputs": [
        {
          "output_type": "stream",
          "name": "stdout",
          "text": [
            "113350"
          ]
        }
      ],
      "source": [
        "\n",
        "lst = [11, 33, 50]\n",
        "for i in lst:\n",
        "\tprint(i, end=\"\")\n"
      ]
    },
    {
      "cell_type": "markdown",
      "metadata": {
        "id": "PQ27StEcFOqM"
      },
      "source": [
        "#### 9. Write a Python program to compute the similarity between two lists.\n",
        "* Sample data: [\"red\", \"orange\", \"green\", \"blue\", \"white\"], [\"black\", \"yellow\", \"green\", \"blue\"]\n",
        "* Expected Output: \n",
        "* Color1-Color2: ['white', 'orange', 'red']\n",
        "* Color2-Color1: ['black', 'yellow']"
      ]
    },
    {
      "cell_type": "code",
      "execution_count": null,
      "metadata": {
        "collapsed": true,
        "id": "4SrfwyC9FOqN",
        "colab": {
          "base_uri": "https://localhost:8080/"
        },
        "outputId": "b11a3270-3fb7-4ca2-8384-d7b8d912af48"
      },
      "outputs": [
        {
          "output_type": "stream",
          "name": "stdout",
          "text": [
            "Color1-Color2:  ['red', 'orange', 'white']\n",
            "Color2-Color1:  ['black', 'yellow']\n"
          ]
        }
      ],
      "source": [
        "from collections import Counter\n",
        "color1 = [\"red\", \"orange\", \"green\", \"blue\", \"white\"]\n",
        "color2 = [\"black\", \"yellow\", \"green\", \"blue\"]\n",
        "counter1 = Counter(color1)\n",
        "counter2 = Counter(color2)\n",
        "print(\"Color1-Color2: \",list(counter1 - counter2))\n",
        "print(\"Color2-Color1: \",list(counter2 - counter1))"
      ]
    },
    {
      "cell_type": "markdown",
      "metadata": {
        "id": "9P594GK8FOqN"
      },
      "source": [
        "#### 10. Write a Python program to check if all dictionaries in a list are empty or not.\n",
        "* Sample list : [{},{},{}]\n",
        "* Return value : True\n",
        "* Sample list : [{1,2},{},{}]\n",
        "* Return value : False"
      ]
    },
    {
      "cell_type": "code",
      "source": [
        "my_list = [{},{},{}]\n",
        "my_list1 = [{1:2},{},{}]\n",
        "print(all(not d for d in my_list))\n",
        "print(all(not d for d in my_list1))"
      ],
      "metadata": {
        "colab": {
          "base_uri": "https://localhost:8080/"
        },
        "id": "DFjR4vgAIFwH",
        "outputId": "3628a51f-0dac-4f39-b3d5-fdf8e236bec1"
      },
      "execution_count": null,
      "outputs": [
        {
          "output_type": "stream",
          "name": "stdout",
          "text": [
            "True\n",
            "False\n"
          ]
        }
      ]
    },
    {
      "cell_type": "code",
      "execution_count": null,
      "metadata": {
        "collapsed": true,
        "id": "daHrNOUFFOqO"
      },
      "outputs": [],
      "source": [
        "def Empty(List):\n",
        "  default = True\n",
        "  for i in List:\n",
        "    if not i:\n",
        "      default=True\n",
        "    else:\n",
        "      default=False\n",
        "      break\n",
        "  if default==True:\n",
        "    return 1\n",
        "  return 0"
      ]
    },
    {
      "cell_type": "code",
      "source": [
        "List = [{},{},{}]\n",
        "print(Empty(List))"
      ],
      "metadata": {
        "colab": {
          "base_uri": "https://localhost:8080/"
        },
        "id": "4nXccNYiHysf",
        "outputId": "b27d8fdf-bec1-4fce-c07c-93ee020ad492"
      },
      "execution_count": null,
      "outputs": [
        {
          "output_type": "stream",
          "name": "stdout",
          "text": [
            "1\n"
          ]
        }
      ]
    }
  ],
  "metadata": {
    "kernelspec": {
      "display_name": "Python 3",
      "language": "python",
      "name": "python3"
    },
    "language_info": {
      "codemirror_mode": {
        "name": "ipython",
        "version": 3
      },
      "file_extension": ".py",
      "mimetype": "text/x-python",
      "name": "python",
      "nbconvert_exporter": "python",
      "pygments_lexer": "ipython3",
      "version": "3.6.1"
    },
    "colab": {
      "provenance": []
    }
  },
  "nbformat": 4,
  "nbformat_minor": 0
}