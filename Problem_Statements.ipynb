{
  "cells": [
    {
      "cell_type": "markdown",
      "metadata": {
        "id": "wCgq7QHO2M4v"
      },
      "source": [
        "## Python Data Type: String - Exercises"
      ]
    },
    {
      "cell_type": "markdown",
      "metadata": {
        "id": "RHXKntHv2M4z"
      },
      "source": [
        "#### 1. Write a Python program to count the number of characters (character \n",
        "\n",
        "---\n",
        "\n",
        "frequency) in a string \n",
        "* Sample String : google.com'\n",
        "* Expected Result : {'o': 3, 'g': 2, '.': 1, 'e': 1, 'l': 1, 'm': 1, 'c': 1}"
      ]
    },
    {
      "cell_type": "code",
      "execution_count": null,
      "metadata": {
        "id": "eSx5-6yR2M40",
        "outputId": "c74e7d4a-95e1-4008-fc88-dd26d582d449",
        "colab": {
          "base_uri": "https://localhost:8080/"
        }
      },
      "outputs": [
        {
          "output_type": "stream",
          "name": "stdout",
          "text": [
            "{'g': 2, 'o': 3, 'l': 1, 'e': 1, '.': 1, 'c': 1, 'm': 1}\n"
          ]
        }
      ],
      "source": [
        "def char_frequency(str1):\n",
        "    dict = {}\n",
        "    for n in str1:\n",
        "        keys = dict.keys()\n",
        "        if n in keys:\n",
        "            dict[n] += 1\n",
        "        else:\n",
        "            dict[n] = 1\n",
        "    return dict\n",
        "print(char_frequency('google.com'))"
      ]
    },
    {
      "cell_type": "markdown",
      "metadata": {
        "id": "XxutYgqA2M41"
      },
      "source": [
        "#### 2. Write a Python program to get a string from a given string where all occurrences of its first char have been changed to '$' ,except the first char itself\n",
        "\n",
        "* Sample String : 'restart'\n",
        "* Expected Result : 'resta$t' "
      ]
    },
    {
      "cell_type": "code",
      "execution_count": null,
      "metadata": {
        "id": "OAot-SA62M42",
        "outputId": "7fbf1599-5c4d-43f0-88c3-aae9285c0ec1",
        "colab": {
          "base_uri": "https://localhost:8080/"
        }
      },
      "outputs": [
        {
          "output_type": "stream",
          "name": "stdout",
          "text": [
            "resta$t\n"
          ]
        }
      ],
      "source": [
        "def change_char(str1):\n",
        "  char = str1[0]\n",
        "  str1 = str1.replace(char, '$')\n",
        "  str1 = char + str1[1:]\n",
        "\n",
        "  return str1\n",
        "\n",
        "print(change_char('restart'))"
      ]
    },
    {
      "cell_type": "markdown",
      "metadata": {
        "id": "_zOnQKGr2M42"
      },
      "source": [
        "#### 3. Write a Python function that takes a list of words and returns the length of the longest one"
      ]
    },
    {
      "cell_type": "code",
      "execution_count": null,
      "metadata": {
        "collapsed": true,
        "id": "RMi4uONE2M42",
        "outputId": "29fc48ae-039a-4f8b-8e1a-b56d02743144",
        "colab": {
          "base_uri": "https://localhost:8080/"
        }
      },
      "outputs": [
        {
          "output_type": "stream",
          "name": "stdout",
          "text": [
            "Longest word:  Exercises\n"
          ]
        }
      ],
      "source": [
        "def find_longest_word(words_list):\n",
        "    word_len = []\n",
        "    for n in words_list:\n",
        "        word_len.append((len(n), n))\n",
        "    word_len.sort()\n",
        "    return word_len[-1][0], word_len[-1][1]\n",
        "result = find_longest_word([\"PHP\", \"Exercises\", \"Backend\"])\n",
        "print(\"Longest word: \",result[1])"
      ]
    },
    {
      "cell_type": "markdown",
      "metadata": {
        "id": "OHjbwpYp2M43"
      },
      "source": [
        "#### 4. Write a Python program to count the occurrences of each word in a given sentence"
      ]
    },
    {
      "cell_type": "code",
      "execution_count": null,
      "metadata": {
        "collapsed": true,
        "id": "LNvSRgm82M43",
        "outputId": "2ab45efb-0db5-4d66-9569-eb67da124048",
        "colab": {
          "base_uri": "https://localhost:8080/"
        }
      },
      "outputs": [
        {
          "output_type": "stream",
          "name": "stdout",
          "text": [
            "{'Miet': 1, 'college': 2, 'is': 1, 'a': 1, 'gud': 1}\n"
          ]
        }
      ],
      "source": [
        "def word_count(str):\n",
        "    counts = dict()\n",
        "    words = str.split()\n",
        "\n",
        "    for word in words:\n",
        "        if word in counts:\n",
        "            counts[word] += 1\n",
        "        else:\n",
        "            counts[word] = 1\n",
        "\n",
        "    return counts\n",
        "\n",
        "print( word_count('Miet college is a gud college'))"
      ]
    },
    {
      "cell_type": "markdown",
      "metadata": {
        "id": "mACHhIKh2M43"
      },
      "source": [
        "#### 5. Write a Python function to convert a given string to all uppercase if it contains at least 2 uppercase characters in the first 4 characters."
      ]
    },
    {
      "cell_type": "code",
      "execution_count": null,
      "metadata": {
        "collapsed": true,
        "id": "ivkpbzgE2M44",
        "outputId": "7f4bcb3b-ffa2-480f-9eda-91dfed9772bc",
        "colab": {
          "base_uri": "https://localhost:8080/"
        }
      },
      "outputs": [
        {
          "output_type": "stream",
          "name": "stdout",
          "text": [
            "Python\n",
            "PYTHON\n"
          ]
        }
      ],
      "source": [
        "def to_uppercase(str1):\n",
        "    num_upper = 0\n",
        "    for letter in str1[:4]: \n",
        "        if letter.upper() == letter:\n",
        "            num_upper += 1\n",
        "    if num_upper >= 2:\n",
        "        return str1.upper()\n",
        "    return str1\n",
        "\n",
        "print(to_uppercase('Python'))\n",
        "print(to_uppercase('PyThon'))\n"
      ]
    },
    {
      "cell_type": "markdown",
      "metadata": {
        "id": "90oDzO502M44"
      },
      "source": [
        "#### 6. Write a Python program to count and display the vowels of a given text"
      ]
    },
    {
      "cell_type": "code",
      "execution_count": null,
      "metadata": {
        "collapsed": true,
        "id": "pIaMMop82M44",
        "outputId": "50c4b00b-db96-4a7c-8a57-83587745fe85",
        "colab": {
          "base_uri": "https://localhost:8080/"
        }
      },
      "outputs": [
        {
          "output_type": "stream",
          "name": "stdout",
          "text": [
            "5\n",
            "['i', 'e', 'o', 'e', 'e']\n"
          ]
        }
      ],
      "source": [
        "def vowel(text):\n",
        "    vowels = \"aeiuoAEIOU\"\n",
        "    print(len([letter for letter in text if letter in vowels]))\n",
        "    print([letter for letter in text if letter in vowels])\n",
        "vowel('Miet College');"
      ]
    }
  ],
  "metadata": {
    "kernelspec": {
      "display_name": "Python 3",
      "language": "python",
      "name": "python3"
    },
    "language_info": {
      "codemirror_mode": {
        "name": "ipython",
        "version": 3
      },
      "file_extension": ".py",
      "mimetype": "text/x-python",
      "name": "python",
      "nbconvert_exporter": "python",
      "pygments_lexer": "ipython3",
      "version": "3.6.1"
    },
    "colab": {
      "provenance": []
    }
  },
  "nbformat": 4,
  "nbformat_minor": 0
}